{
 "cells": [
  {
   "cell_type": "code",
   "execution_count": 1,
   "id": "557f4b3c",
   "metadata": {},
   "outputs": [
    {
     "data": {
      "text/html": [
       "<style>.container { width:100% !important; }</style>"
      ],
      "text/plain": [
       "<IPython.core.display.HTML object>"
      ]
     },
     "metadata": {},
     "output_type": "display_data"
    }
   ],
   "source": [
    "from IPython.display import display, HTML\n",
    "display(HTML(\"<style>.container { width:100% !important; }</style>\"))"
   ]
  },
  {
   "cell_type": "markdown",
   "id": "f9b735e2",
   "metadata": {},
   "source": [
    "# \\<Assignment 3>\n",
    "\n",
    "#### Student name: \\< Esdras Luna>\n",
    "#### Student ID: \\< 23015971>\n",
    "\n"
   ]
  },
  {
   "cell_type": "markdown",
   "id": "9c556ce3",
   "metadata": {},
   "source": [
    "The dataset contains various features related to TB prevalence, mortality, incidence, and other factors. The target variable for our classifier is Region. "
   ]
  },
  {
   "cell_type": "markdown",
   "id": "037049cf",
   "metadata": {},
   "source": [
    "# TASK 1: Load & Process the Dataset & Select Features"
   ]
  },
  {
   "cell_type": "markdown",
   "id": "4c98e137",
   "metadata": {},
   "source": [
    "### Task 1a: Load the Dataset"
   ]
  },
  {
   "cell_type": "markdown",
   "id": "80094f18",
   "metadata": {},
   "source": [
    "We will begin by preprocessing the data, addressing missing values, and then proceed with feature selection, model training, and evaluation. Given that Naive Bayes is not sensitive to feature scaling, we will not standardize the features."
   ]
  },
  {
   "cell_type": "code",
   "execution_count": 2,
   "id": "a9507f50",
   "metadata": {},
   "outputs": [],
   "source": [
    "# Import general libraries\n",
    "import pandas as pd"
   ]
  },
  {
   "cell_type": "code",
   "execution_count": 3,
   "id": "7ee52502",
   "metadata": {},
   "outputs": [
    {
     "data": {
      "text/html": [
       "<div>\n",
       "<style scoped>\n",
       "    .dataframe tbody tr th:only-of-type {\n",
       "        vertical-align: middle;\n",
       "    }\n",
       "\n",
       "    .dataframe tbody tr th {\n",
       "        vertical-align: top;\n",
       "    }\n",
       "\n",
       "    .dataframe thead th {\n",
       "        text-align: right;\n",
       "    }\n",
       "</style>\n",
       "<table border=\"1\" class=\"dataframe\">\n",
       "  <thead>\n",
       "    <tr style=\"text-align: right;\">\n",
       "      <th></th>\n",
       "      <th>Country or territory name</th>\n",
       "      <th>Region</th>\n",
       "      <th>Year</th>\n",
       "      <th>Estimated total population number</th>\n",
       "      <th>Estimated prevalence of TB (all forms) per 100 000 population</th>\n",
       "      <th>Estimated prevalence of TB (all forms) per 100 000 population, low bound</th>\n",
       "      <th>Estimated prevalence of TB (all forms) per 100 000 population, high bound</th>\n",
       "      <th>Estimated prevalence of TB (all forms)</th>\n",
       "      <th>Estimated prevalence of TB (all forms), low bound</th>\n",
       "      <th>Estimated prevalence of TB (all forms), high bound</th>\n",
       "      <th>...</th>\n",
       "      <th>Estimated incidence of TB cases who are HIV-positive per 100 000 population</th>\n",
       "      <th>Estimated incidence of TB cases who are HIV-positive per 100 000 population, low bound</th>\n",
       "      <th>Estimated incidence of TB cases who are HIV-positive per 100 000 population, high bound</th>\n",
       "      <th>Estimated incidence of TB cases who are HIV-positive</th>\n",
       "      <th>Estimated incidence of TB cases who are HIV-positive, low bound</th>\n",
       "      <th>Estimated incidence of TB cases who are HIV-positive, high bound</th>\n",
       "      <th>Method to derive TBHIV estimates</th>\n",
       "      <th>Case detection rate (all forms), percent</th>\n",
       "      <th>Case detection rate (all forms), percent, low bound</th>\n",
       "      <th>Case detection rate (all forms), percent, high bound</th>\n",
       "    </tr>\n",
       "  </thead>\n",
       "  <tbody>\n",
       "    <tr>\n",
       "      <th>0</th>\n",
       "      <td>Afghanistan</td>\n",
       "      <td>EMR</td>\n",
       "      <td>1990</td>\n",
       "      <td>11731193</td>\n",
       "      <td>306.0</td>\n",
       "      <td>156.0</td>\n",
       "      <td>506.0</td>\n",
       "      <td>36000.0</td>\n",
       "      <td>18000.0</td>\n",
       "      <td>59000.0</td>\n",
       "      <td>...</td>\n",
       "      <td>0.11</td>\n",
       "      <td>0.08</td>\n",
       "      <td>0.14</td>\n",
       "      <td>12.0</td>\n",
       "      <td>9.4</td>\n",
       "      <td>16.0</td>\n",
       "      <td>NaN</td>\n",
       "      <td>20.0</td>\n",
       "      <td>15.0</td>\n",
       "      <td>24.0</td>\n",
       "    </tr>\n",
       "    <tr>\n",
       "      <th>1</th>\n",
       "      <td>Afghanistan</td>\n",
       "      <td>EMR</td>\n",
       "      <td>1991</td>\n",
       "      <td>12612043</td>\n",
       "      <td>343.0</td>\n",
       "      <td>178.0</td>\n",
       "      <td>562.0</td>\n",
       "      <td>43000.0</td>\n",
       "      <td>22000.0</td>\n",
       "      <td>71000.0</td>\n",
       "      <td>...</td>\n",
       "      <td>0.13</td>\n",
       "      <td>0.11</td>\n",
       "      <td>0.16</td>\n",
       "      <td>17.0</td>\n",
       "      <td>14.0</td>\n",
       "      <td>20.0</td>\n",
       "      <td>NaN</td>\n",
       "      <td>96.0</td>\n",
       "      <td>80.0</td>\n",
       "      <td>110.0</td>\n",
       "    </tr>\n",
       "    <tr>\n",
       "      <th>2</th>\n",
       "      <td>Afghanistan</td>\n",
       "      <td>EMR</td>\n",
       "      <td>1992</td>\n",
       "      <td>13811876</td>\n",
       "      <td>371.0</td>\n",
       "      <td>189.0</td>\n",
       "      <td>614.0</td>\n",
       "      <td>51000.0</td>\n",
       "      <td>26000.0</td>\n",
       "      <td>85000.0</td>\n",
       "      <td>...</td>\n",
       "      <td>0.16</td>\n",
       "      <td>0.14</td>\n",
       "      <td>0.18</td>\n",
       "      <td>22.0</td>\n",
       "      <td>19.0</td>\n",
       "      <td>24.0</td>\n",
       "      <td>NaN</td>\n",
       "      <td>NaN</td>\n",
       "      <td>NaN</td>\n",
       "      <td>NaN</td>\n",
       "    </tr>\n",
       "    <tr>\n",
       "      <th>3</th>\n",
       "      <td>Afghanistan</td>\n",
       "      <td>EMR</td>\n",
       "      <td>1993</td>\n",
       "      <td>15175325</td>\n",
       "      <td>392.0</td>\n",
       "      <td>194.0</td>\n",
       "      <td>657.0</td>\n",
       "      <td>59000.0</td>\n",
       "      <td>30000.0</td>\n",
       "      <td>100000.0</td>\n",
       "      <td>...</td>\n",
       "      <td>0.19</td>\n",
       "      <td>0.17</td>\n",
       "      <td>0.21</td>\n",
       "      <td>28.0</td>\n",
       "      <td>25.0</td>\n",
       "      <td>31.0</td>\n",
       "      <td>NaN</td>\n",
       "      <td>NaN</td>\n",
       "      <td>NaN</td>\n",
       "      <td>NaN</td>\n",
       "    </tr>\n",
       "    <tr>\n",
       "      <th>4</th>\n",
       "      <td>Afghanistan</td>\n",
       "      <td>EMR</td>\n",
       "      <td>1994</td>\n",
       "      <td>16485018</td>\n",
       "      <td>410.0</td>\n",
       "      <td>198.0</td>\n",
       "      <td>697.0</td>\n",
       "      <td>68000.0</td>\n",
       "      <td>33000.0</td>\n",
       "      <td>110000.0</td>\n",
       "      <td>...</td>\n",
       "      <td>0.21</td>\n",
       "      <td>0.18</td>\n",
       "      <td>0.24</td>\n",
       "      <td>35.0</td>\n",
       "      <td>30.0</td>\n",
       "      <td>39.0</td>\n",
       "      <td>NaN</td>\n",
       "      <td>NaN</td>\n",
       "      <td>NaN</td>\n",
       "      <td>NaN</td>\n",
       "    </tr>\n",
       "  </tbody>\n",
       "</table>\n",
       "<p>5 rows × 44 columns</p>\n",
       "</div>"
      ],
      "text/plain": [
       "  Country or territory name Region  Year  Estimated total population number  \\\n",
       "0               Afghanistan    EMR  1990                           11731193   \n",
       "1               Afghanistan    EMR  1991                           12612043   \n",
       "2               Afghanistan    EMR  1992                           13811876   \n",
       "3               Afghanistan    EMR  1993                           15175325   \n",
       "4               Afghanistan    EMR  1994                           16485018   \n",
       "\n",
       "   Estimated prevalence of TB (all forms) per 100 000 population  \\\n",
       "0                                              306.0               \n",
       "1                                              343.0               \n",
       "2                                              371.0               \n",
       "3                                              392.0               \n",
       "4                                              410.0               \n",
       "\n",
       "   Estimated prevalence of TB (all forms) per 100 000 population, low bound  \\\n",
       "0                                              156.0                          \n",
       "1                                              178.0                          \n",
       "2                                              189.0                          \n",
       "3                                              194.0                          \n",
       "4                                              198.0                          \n",
       "\n",
       "   Estimated prevalence of TB (all forms) per 100 000 population, high bound  \\\n",
       "0                                              506.0                           \n",
       "1                                              562.0                           \n",
       "2                                              614.0                           \n",
       "3                                              657.0                           \n",
       "4                                              697.0                           \n",
       "\n",
       "   Estimated prevalence of TB (all forms)  \\\n",
       "0                                 36000.0   \n",
       "1                                 43000.0   \n",
       "2                                 51000.0   \n",
       "3                                 59000.0   \n",
       "4                                 68000.0   \n",
       "\n",
       "   Estimated prevalence of TB (all forms), low bound  \\\n",
       "0                                            18000.0   \n",
       "1                                            22000.0   \n",
       "2                                            26000.0   \n",
       "3                                            30000.0   \n",
       "4                                            33000.0   \n",
       "\n",
       "   Estimated prevalence of TB (all forms), high bound  ...  \\\n",
       "0                                            59000.0   ...   \n",
       "1                                            71000.0   ...   \n",
       "2                                            85000.0   ...   \n",
       "3                                           100000.0   ...   \n",
       "4                                           110000.0   ...   \n",
       "\n",
       "  Estimated incidence of TB cases who are HIV-positive per 100 000 population  \\\n",
       "0                                               0.11                            \n",
       "1                                               0.13                            \n",
       "2                                               0.16                            \n",
       "3                                               0.19                            \n",
       "4                                               0.21                            \n",
       "\n",
       "   Estimated incidence of TB cases who are HIV-positive per 100 000 population, low bound  \\\n",
       "0                                               0.08                                        \n",
       "1                                               0.11                                        \n",
       "2                                               0.14                                        \n",
       "3                                               0.17                                        \n",
       "4                                               0.18                                        \n",
       "\n",
       "   Estimated incidence of TB cases who are HIV-positive per 100 000 population, high bound  \\\n",
       "0                                               0.14                                         \n",
       "1                                               0.16                                         \n",
       "2                                               0.18                                         \n",
       "3                                               0.21                                         \n",
       "4                                               0.24                                         \n",
       "\n",
       "   Estimated incidence of TB cases who are HIV-positive  \\\n",
       "0                                               12.0      \n",
       "1                                               17.0      \n",
       "2                                               22.0      \n",
       "3                                               28.0      \n",
       "4                                               35.0      \n",
       "\n",
       "   Estimated incidence of TB cases who are HIV-positive, low bound  \\\n",
       "0                                                9.4                 \n",
       "1                                               14.0                 \n",
       "2                                               19.0                 \n",
       "3                                               25.0                 \n",
       "4                                               30.0                 \n",
       "\n",
       "   Estimated incidence of TB cases who are HIV-positive, high bound  \\\n",
       "0                                               16.0                  \n",
       "1                                               20.0                  \n",
       "2                                               24.0                  \n",
       "3                                               31.0                  \n",
       "4                                               39.0                  \n",
       "\n",
       "   Method to derive TBHIV estimates  Case detection rate (all forms), percent  \\\n",
       "0                               NaN                                      20.0   \n",
       "1                               NaN                                      96.0   \n",
       "2                               NaN                                       NaN   \n",
       "3                               NaN                                       NaN   \n",
       "4                               NaN                                       NaN   \n",
       "\n",
       "   Case detection rate (all forms), percent, low bound  \\\n",
       "0                                               15.0     \n",
       "1                                               80.0     \n",
       "2                                                NaN     \n",
       "3                                                NaN     \n",
       "4                                                NaN     \n",
       "\n",
       "   Case detection rate (all forms), percent, high bound  \n",
       "0                                               24.0     \n",
       "1                                              110.0     \n",
       "2                                                NaN     \n",
       "3                                                NaN     \n",
       "4                                                NaN     \n",
       "\n",
       "[5 rows x 44 columns]"
      ]
     },
     "execution_count": 3,
     "metadata": {},
     "output_type": "execute_result"
    }
   ],
   "source": [
    "# Load the .xlsx file into a dataframe\n",
    "df = pd.read_excel(r\"C:\\Users\\Admin\\OneDrive\\Massey University\\Semester 3\\Data Wrangling & Machine Learning\\Assignments\\A3\\Sample.xlsx\")\n",
    "\n",
    "# Display the dataframe to verify the data\n",
    "df.head()"
   ]
  },
  {
   "cell_type": "code",
   "execution_count": 4,
   "id": "096d4639",
   "metadata": {},
   "outputs": [
    {
     "name": "stdout",
     "output_type": "stream",
     "text": [
      "Number of rows:  499\n",
      "Number of columns:  44\n",
      "Column names:  Index(['Country or territory name', 'Region', 'Year',\n",
      "       'Estimated total population number',\n",
      "       'Estimated prevalence of TB (all forms) per 100 000 population',\n",
      "       'Estimated prevalence of TB (all forms) per 100 000 population, low bound',\n",
      "       'Estimated prevalence of TB (all forms) per 100 000 population, high bound',\n",
      "       'Estimated prevalence of TB (all forms)',\n",
      "       'Estimated prevalence of TB (all forms), low bound',\n",
      "       'Estimated prevalence of TB (all forms), high bound',\n",
      "       'Method to derive prevalence estimates',\n",
      "       'Estimated mortality of TB cases (all forms, excluding HIV) per 100 000 population',\n",
      "       'Estimated mortality of TB cases (all forms, excluding HIV), per 100 000 population, low bound',\n",
      "       'Estimated mortality of TB cases (all forms, excluding HIV), per 100 000 population, high bound',\n",
      "       'Estimated number of deaths from TB (all forms, excluding HIV)',\n",
      "       'Estimated number of deaths from TB (all forms, excluding HIV), low bound',\n",
      "       'Estimated number of deaths from TB (all forms, excluding HIV), high bound',\n",
      "       'Estimated mortality of TB cases who are HIV-positive, per 100 000 population',\n",
      "       'Estimated mortality of TB cases who are HIV-positive, per 100 000 population, low bound',\n",
      "       'Estimated mortality of TB cases who are HIV-positive, per 100 000 population, high bound',\n",
      "       'Estimated number of deaths from TB in people who are HIV-positive',\n",
      "       'Estimated number of deaths from TB in people who are HIV-positive, low bound',\n",
      "       'Estimated number of deaths from TB in people who are HIV-positive, high bound',\n",
      "       'Method to derive mortality estimates',\n",
      "       'Estimated incidence (all forms) per 100 000 population',\n",
      "       'Estimated incidence (all forms) per 100 000 population, low bound',\n",
      "       'Estimated incidence (all forms) per 100 000 population, high bound',\n",
      "       'Estimated number of incident cases (all forms)',\n",
      "       'Estimated number of incident cases (all forms), low bound',\n",
      "       'Estimated number of incident cases (all forms), high bound',\n",
      "       'Method to derive incidence estimates',\n",
      "       'Estimated HIV in incident TB (percent)',\n",
      "       'Estimated HIV in incident TB (percent), low bound',\n",
      "       'Estimated HIV in incident TB (percent), high bound',\n",
      "       'Estimated incidence of TB cases who are HIV-positive per 100 000 population',\n",
      "       'Estimated incidence of TB cases who are HIV-positive per 100 000 population, low bound',\n",
      "       'Estimated incidence of TB cases who are HIV-positive per 100 000 population, high bound',\n",
      "       'Estimated incidence of TB cases who are HIV-positive',\n",
      "       'Estimated incidence of TB cases who are HIV-positive, low bound',\n",
      "       'Estimated incidence of TB cases who are HIV-positive, high bound',\n",
      "       'Method to derive TBHIV estimates',\n",
      "       'Case detection rate (all forms), percent',\n",
      "       'Case detection rate (all forms), percent, low bound',\n",
      "       'Case detection rate (all forms), percent, high bound'],\n",
      "      dtype='object')\n"
     ]
    }
   ],
   "source": [
    "# Get the number of rows and columns in the dataframe\n",
    "print(\"Number of rows: \", df.shape[0])\n",
    "print(\"Number of columns: \", df.shape[1])\n",
    "\n",
    "# Get the column names in the dataframe\n",
    "print(\"Column names: \", df.columns)"
   ]
  },
  {
   "cell_type": "code",
   "execution_count": 5,
   "id": "b8156d33",
   "metadata": {},
   "outputs": [
    {
     "name": "stdout",
     "output_type": "stream",
     "text": [
      "Number of columns:  44\n",
      "Number of unique values in the 'Region' column:  6\n",
      "Unique values in the 'Region' column:  ['EMR' 'EUR' 'AFR' 'WPR' 'AMR' 'SEA']\n"
     ]
    }
   ],
   "source": [
    "# Determine how many columns there are  \n",
    "print(\"Number of columns: \", len(df.columns))\n",
    "\n",
    "# Determine how many unique values are in the 'Region' column\n",
    "print(\"Number of unique values in the 'Region' column: \", df['Region'].nunique())\n",
    "\n",
    "# Print out the unique values in the 'Region' column\n",
    "print(\"Unique values in the 'Region' column: \", df['Region'].unique())"
   ]
  },
  {
   "cell_type": "markdown",
   "id": "9d48fe3e",
   "metadata": {},
   "source": [
    "### Task 1b: Pre-Process the Data"
   ]
  },
  {
   "cell_type": "markdown",
   "id": "23bf2884",
   "metadata": {},
   "source": [
    "**Encoding:**\n",
    "\n",
    "Encoding is the process of transforming categorical data (e.g., \"red,\" \"blue,\" \"green\") into numerical representations that machine learning models can understand. This is often necessary as many algorithms can only operate on numerical data. However, in our case, since the features in our dataset are already represented as numerical data types (float64 and int64) additional encoding is not required in this case."
   ]
  },
  {
   "cell_type": "markdown",
   "metadata": {},
   "source": [
    "**Standarization/Normalization (Feature Scaling):**\n",
    "\n",
    "- Standardization: Centers each feature by subtracting its mean and scales it by dividing by its standard deviation. This results in features with a mean of 0 and a standard deviation of 1.\n",
    "- Normalization: Scales each feature to a specific range, typically 0 to 1.\n",
    "\n",
    "While feature scaling is often beneficial for machine learning algorithms, it's not strictly required for Gaussian Naive Bayes (GNB) as this operates under the assumption that features within each class follow a Gaussian (normal) distribution and directly uses the mean and standard deviation of each feature to calculate probabilities. Since feature scaling doesn't change the underlying shape of the normal distribution (only its center and spread), it generally doesn't impact GNB's classification results.\n",
    "\n",
    "While feature scaling is often beneficial for machine learning algorithms, it's not strictly required for Gaussian Naive Bayes (GNB). This is because GNB operates under the assumption that features within each class follow a Gaussian (normal) distribution and directly uses the mean and standard deviation of each feature to calculate probabilities. Since feature scaling doesn't change the underlying shape of the normal distribution (only its center and spread), it generally doesn't impact GNB's classification results, and is therefore not required in this case."
   ]
  },
  {
   "cell_type": "markdown",
   "id": "07cfefb6",
   "metadata": {},
   "source": [
    "**Missing Values:**\n",
    "\n",
    "We will handle missing values by dropping rows with missing values in the columns that are selected as features."
   ]
  },
  {
   "cell_type": "markdown",
   "id": "05171c55",
   "metadata": {},
   "source": [
    "### Task 1c: Select the Target and Features "
   ]
  },
  {
   "cell_type": "markdown",
   "id": "ac584a6c",
   "metadata": {},
   "source": [
    "Select the target variable (y) to predict and the features used for this (x) (i.e. a feature matrix)"
   ]
  },
  {
   "cell_type": "markdown",
   "id": "f1de4ef4",
   "metadata": {},
   "source": [
    "We will consider the following features for this model:\n",
    "\n",
    "- Estimated prevalence of TB (all forms) per 100 000 population\n",
    "- Estimated mortality of TB cases (all forms, excluding HIV) per 100 000 population\n",
    "- Estimated incidence (all forms) per 100 000 population\n",
    "- Case detection rate (all forms), percent\n",
    "\n",
    "These features are chosen as they are directly related to the TB burden and might be informative for predicting the region."
   ]
  },
  {
   "cell_type": "code",
   "execution_count": 7,
   "id": "8cd272b8",
   "metadata": {},
   "outputs": [],
   "source": [
    "# Define your features \n",
    "features = ['Estimated prevalence of TB (all forms) per 100 000 population',\n",
    "            'Estimated mortality of TB cases (all forms, excluding HIV) per 100 000 population',\n",
    "            'Case detection rate (all forms), percent']\n",
    "\n",
    "# Define your target variable\n",
    "target = ['Region']\n",
    "\n",
    "# Create a new dataframe with only the columns of interest\n",
    "df_subset = df[features + target].copy()  \n",
    "\n",
    "# Drop any rows with missing values in either the features or the target\n",
    "df_subset.dropna(inplace=True)\n",
    "\n",
    "# Create feature matrix X and target variable y\n",
    "X = df_subset[features]\n",
    "y = df_subset[target]\n"
   ]
  },
  {
   "cell_type": "markdown",
   "id": "f9d885e2",
   "metadata": {},
   "source": [
    "# TASK 2: Create Classifier Models"
   ]
  },
  {
   "cell_type": "markdown",
   "id": "6f328919",
   "metadata": {},
   "source": [
    "### Task 2a: Gaussian Naive Bayes Models"
   ]
  },
  {
   "cell_type": "markdown",
   "id": "16d13973",
   "metadata": {},
   "source": [
    "Model Description:\n",
    "\n",
    "These models implement a Gaussian Naive Bayes (GNB) classifier to predict categories within our dataset. Gaussian Naive Bayes (GNB) is a probabilistic algorithm that efficiently handles continuous numeric features by assuming they follow a normal distribution, estimating the mean and standard deviation for each feature within each category, and then calculating the probability of a new data point belonging to each category based on these estimations.\n",
    "\n",
    "Key Points:\n",
    "\n",
    "- Efficiency: GNB is computationally efficient, making it suitable for large datasets.\n",
    "- Interpretability: The model's assumptions and calculations are relatively easy to understand, aiding in transparency.\n",
    "- Continuous Features: Well-suited for datasets with continuous numeric features that follow a normal (Gaussian) distribution.\n",
    "- Naive Assumption: GNB assumes features are independent of each other, which may not hold true in all real-world scenarios. Despite this assumption, GNB often performs surprisingly well overall."
   ]
  },
  {
   "cell_type": "markdown",
   "id": "488e9b85",
   "metadata": {},
   "source": [
    "##### Model 1: GNB Classifier with a single 80/20 Train-Test Split."
   ]
  },
  {
   "cell_type": "markdown",
   "id": "107e18e8",
   "metadata": {},
   "source": [
    "This model implements a single 80/20 Training-Test split for model development and evaluation. \n",
    "\n",
    "Reasoning:\n",
    "\n",
    "A train-test split allows for the separation of data into two distinct sets in order to effectively train the model on one set and then evaluate its performance on a completely independent set. This helps prevent the model from simply memorizing the training data and ensures it can generalize to new, unseen examples.\n",
    "\n",
    "Training:\n",
    "\n",
    "The dataset is split into:\n",
    "\n",
    "- Training Set (80%): Used to train the GNB classifier and identify patterns in the data.\n",
    "- Testing Set (20%): Used to evaluate the classifier's performance on unseen data, ensuring its ability to generalize and make accurate predictions.\n",
    "\n",
    "By training on a subset of the data and evaluating on a separate, unseen subset, we can confidently assess the classifier's ability to predict the target variable accurately in real-world scenarios."
   ]
  },
  {
   "cell_type": "code",
   "execution_count": 10,
   "id": "f286a140",
   "metadata": {},
   "outputs": [],
   "source": [
    "# Import the necessary libraries\n",
    "from sklearn.model_selection import train_test_split\n",
    "from sklearn.naive_bayes import GaussianNB\n",
    "from sklearn.metrics import classification_report\n",
    "\n",
    "# Split the data into training and testing sets\n",
    "X_train, X_test, y_train, y_test = train_test_split(X, y, test_size=0.2, stratify=y, random_state=42) \n",
    "# stratify=y ensures that the distribution of the target variable is the same in both the training and testing sets\n",
    "# random_state=42 ensures reproducibility by setting the seed to a fixed number (in this case, 42)to ensure the same split each time it's run\n",
    "\n",
    "# Train a Gaussian Naive Bayes classifier\n",
    "nb_classifier = GaussianNB()\n",
    "\n",
    "# Fit the classifier to the training set\n",
    "nb_classifier.fit(X_train, y_train.values.ravel())\n",
    "\n",
    "# Predict the 'Region' categories on the testing set\n",
    "y_pred = nb_classifier.predict(X_test)"
   ]
  },
  {
   "cell_type": "markdown",
   "id": "4145b653",
   "metadata": {},
   "source": [
    "Some visualization of the results."
   ]
  },
  {
   "cell_type": "code",
   "execution_count": 11,
   "id": "f85fde2c",
   "metadata": {},
   "outputs": [
    {
     "name": "stdout",
     "output_type": "stream",
     "text": [
      "Overall Accuracy: 0.54\n",
      "              precision    recall  f1-score   support\n",
      "\n",
      "         AFR       0.80      0.40      0.53        10\n",
      "         AMR       0.57      0.68      0.62        25\n",
      "         EMR       0.00      0.00      0.00         8\n",
      "         EUR       0.67      0.48      0.56        33\n",
      "         SEA       0.71      1.00      0.83         5\n",
      "         WPR       0.30      0.78      0.44         9\n",
      "\n",
      "    accuracy                           0.54        90\n",
      "   macro avg       0.51      0.56      0.50        90\n",
      "weighted avg       0.56      0.54      0.53        90\n",
      "\n"
     ]
    },
    {
     "data": {
      "image/png": "[encoded data removed]",
      "text/plain": [
       "<Figure size 1500x500 with 3 Axes>"
      ]
     },
     "metadata": {},
     "output_type": "display_data"
    }
   ],
   "source": [
    "import seaborn as sns\n",
    "import matplotlib.pyplot as plt\n",
    "from sklearn.metrics import classification_report\n",
    "\n",
    "# Get the classification report as a dictionary\n",
    "report_data = classification_report(y_test, y_pred, output_dict=True)\n",
    "\n",
    "# Extract accuracy from the report\n",
    "accuracy = report_data.pop('accuracy')\n",
    "\n",
    "# Remove 'accuracy', 'macro avg', and 'weighted avg' from the dictionary\n",
    "report_data = {k: v for k, v in report_data.items() if k not in ['accuracy', 'macro avg', 'weighted avg']}\n",
    "\n",
    "# Convert the dictionary to a DataFrame for plotting with Seaborn\n",
    "df_report_data = pd.DataFrame(report_data).transpose().reset_index().rename(columns={'index': 'Class'})\n",
    "\n",
    "# Create a figure and axes for multiple subplots\n",
    "fig, axes = plt.subplots(1, 3, figsize=(15, 5))\n",
    "\n",
    "# Define the metrics for plotting\n",
    "metrics = ['precision', 'recall', 'f1-score']\n",
    "\n",
    "# Plot each metric as a separate bar chart\n",
    "for i, metric in enumerate(metrics):\n",
    "    sns.barplot(data=df_report_data, x='Class', y=metric, ax=axes[i])\n",
    "    axes[i].set_title(f'{metric.capitalize()} by Class')\n",
    "    axes[i].set_ylabel(f'{metric.capitalize()}')\n",
    "    axes[i].set_xlabel('Class')\n",
    "\n",
    "# Adjust the spacing between subplots\n",
    "plt.tight_layout()\n",
    "\n",
    "# Print the overall accuracy\n",
    "print(f'Overall Accuracy: {accuracy:.2f}')\n",
    "\n",
    "# Print the classification report\n",
    "print(classification_report(y_test, y_pred))    \n",
    "\n",
    "# Show the plot\n",
    "plt.show()"
   ]
  },
  {
   "cell_type": "markdown",
   "id": "d2a5dd89",
   "metadata": {},
   "source": [
    "##### Model 2: GNB Classifier with 10-fold cross-validation"
   ]
  },
  {
   "cell_type": "markdown",
   "id": "f0858947",
   "metadata": {},
   "source": [
    "This model implements 10-fold Cross-Validation with 10 folds, instead of single train-test split, for model development and evaluation.\n",
    "\n",
    "Reasoning:\n",
    "\n",
    "Single train-test splits can be sensitive to the specific data division, potentially leading to misleading performance estimates depending on the specific split. To overcome this, we utilize 10-fold cross-validation, which offers a more robust evaluation by repeatedly training and testing the model on different subsets of the data. This approach can help us gain a more comprehensive understanding of the model's ability to generalize and reduce the risk of overfitting.\n",
    "\n",
    "Training:\n",
    "\n",
    "The dataset is randomly partitioned into 10 equal folds.\n",
    "In each iteration:\n",
    "- 9 folds are used for training the model.\n",
    "- The remaining fold serves as the testing set to evaluate the model's performance.\n",
    "\n",
    "This process is repeated 10 times, with each fold used as the testing set once. The final performance metric, often accuracy, is calculated as the average of the 10 individual performance scores from each fold. By incorporating 10-fold cross-validation, we can be more confident in the model's ability to generalize and make accurate predictions in real-world scenarios."
   ]
  },
  {
   "cell_type": "code",
   "execution_count": 25,
   "id": "6080f038",
   "metadata": {},
   "outputs": [
    {
     "name": "stdout",
     "output_type": "stream",
     "text": [
      "Mean Accuracy: 0.46\n",
      "Standard Deviation of Accuracy: 0.18\n"
     ]
    }
   ],
   "source": [
    "# Import the necessary libraries\n",
    "from sklearn.model_selection import cross_val_score\n",
    "import numpy as np\n",
    "\n",
    "# Assuming your 'features' and 'target' variables are already defined\n",
    "X = df_subset[features]  \n",
    "y = df_subset[target]\n",
    "\n",
    "# Convert y to a numpy array\n",
    "y = df_subset[target].values.ravel()  # Convert to 1D NumPy array\n",
    "\n",
    "# Create a Gaussian Naive Bayes classifier\n",
    "nb_classifier = GaussianNB() \n",
    "\n",
    "# Perform 10-fold cross-validation on the classifier using accuracy as the scoring metric\n",
    "accuracy_scores = cross_val_score(nb_classifier, X, y, cv=10, scoring='accuracy')\n",
    "\n",
    "# Calculate and print mean accuracy of the classifier\n",
    "mean_accuracy = np.mean(accuracy_scores)\n",
    "print(f\"Mean Accuracy: {mean_accuracy:.2f}\")\n",
    "\n",
    "# Calculate and print standard deviation of accuracy\n",
    "std_accuracy = np.std(accuracy_scores)\n",
    "print(f\"Standard Deviation of Accuracy: {std_accuracy:.2f}\")"
   ]
  },
  {
   "cell_type": "markdown",
   "id": "548a5085",
   "metadata": {},
   "source": [
    "\n",
    "Performance Evaluation:\n",
    "\n",
    "The classification report provides a summary of key metrics to assess how well the classifier performed in predicting the categories.\n",
    "\n",
    "Model Evaluation Metrics:\n",
    "\n",
    "- Accuracy: The proportion of correctly classified instances.\n",
    "- Precision: The ability of the model to not label a negative sample as positive.\n",
    "- Recall: The ability of the model to find all positive samples.\n",
    "- F1-score: A balance between precision and recall.\n",
    "- Confusion Matrix: A table summarizing the model's predictions versus the actual labels.\n",
    "\n",
    "Findings for Naive Bayes Classifiers:\n",
    "\n",
    "1. Single Train-Test Split: achieved an overall accuracy of X% on the test set. This indicates that it can predict the region category better than random guessing, but there's room for improvement. \n",
    "\n",
    "2. 10-fold cross-validation: achieves a mean accuracy of x% with a standard deviation of x%. This suggests that the model's performance is less stable across different folds compared to the single train-test split result. \n",
    "\n",
    "The high standard deviation indicates that the accuracy varies considerably depending on the data used for training and testing in each fold. This result highlights the importance of using cross-validation to get a more reliable estimate of model performance, as a single train-test split might not be representative of the model's true generalization ability."
   ]
  },
  {
   "cell_type": "markdown",
   "id": "69e5198f",
   "metadata": {},
   "source": [
    "### Task 2b: k-Nearest Neighbours Models"
   ]
  },
  {
   "cell_type": "markdown",
   "id": "fd483fd7",
   "metadata": {},
   "source": [
    "Model Description:\n",
    "\n",
    "These models utilize a k-nearest neighbour classifier to to predict categories within our dataset. \n",
    "\n",
    "kNN is a simple yet effective non-parametric algorithm that classifies new data points based on the majority category among their 'k' closest neighbors in the feature space.\n",
    "\n",
    "Key Points:\n",
    "\n",
    "- Versatility: kNN is a versatile tool for classification tasks, especially when linear models are insufficient as it can capture complex, non-linear patterns.\n",
    "- Minimal Assumptions: It doesn't require assumptions about the underlying data distribution, unlike some other algorithms. \n",
    "- Sensitive to Irrelevant Features: If your dataset contains many irrelevant features, kNN's performance can suffer, as it considers all features equally important during classification. Therefore, careful selection or feature engineering is recommended for achieving optimal results.\n",
    "- Parameter Selection: The choice of 'k' (number of neighbors) significantly impacts performance. A small 'k' may lead to overfitting, while a large 'k' may oversimplify the decision boundary. Experimentation with different k values is encouraged to find the optimal value for the specific case. \n",
    "- Computationally Intensive: Predicting labels for new data points can be computationally expensive, especially for large datasets or high values of 'k' as it needs to calculate distances to all training points.\n",
    "\n",
    "\n",
    "\n",
    "General Recommendations for finding the best value for k.\n",
    "\n",
    "- Odd Values of k: It's generally recommended to use odd values of k to avoid ties in the \"voting\" process when deciding on the class of a new data point.\n",
    "- Cross-Validation: The best way to choose the optimal k is to use cross-validation. This allows you to systematically evaluate the model's performance for different k values and select the one that generalizes best to unseen data.\n",
    "- Square Root Rule (Starting Point): A common rule of thumb is to start with k equal to the square root of the number of samples in your training set. This is often a good starting point, but you should always experiment with different values of k around that initial estimate.\n",
    "- Avoid Overfitting: Uing a very small value for k (like 1) often leads to overfitting as the model becomes overly sensitive to noise and outliers in the training data, and it fails to generalize well to new data. Setting a minimum value for k (e.g., 3 or 5) can help prevent the model from becoming too complex and overfitting."
   ]
  },
  {
   "cell_type": "markdown",
   "id": "c25ce3b5",
   "metadata": {},
   "source": [
    "##### Model 1: kNN Classifier with 80/20 Split. \n",
    "- k = square root of number of samples"
   ]
  },
  {
   "cell_type": "markdown",
   "id": "6034c198",
   "metadata": {},
   "source": [
    "This model implements a single 80/20 Training-Test split for model development and evaluation.\n",
    "\n",
    "Reasoning:\n",
    "\n",
    "A train-test split allows for the separation of data into two distinct sets in order to effectively train the model on one set and then evaluate its performance on a completely independent set. This helps prevent the model from simply memorizing the training data and ensures it can generalize to new, unseen examples. \n",
    "\n",
    "Training:\n",
    "\n",
    "We'll utilize the same 80/20 train-test split we used for the GNB models to maintain consistency for comparison. kNN is a lazy learner, meaning it doesn't build an explicit model during training. Instead, it stores the training data and uses it directly for prediction."
   ]
  },
  {
   "cell_type": "code",
   "execution_count": 28,
   "id": "fc37a592",
   "metadata": {},
   "outputs": [
    {
     "name": "stdout",
     "output_type": "stream",
     "text": [
      "              precision    recall  f1-score   support\n",
      "\n",
      "         AFR       0.90      0.90      0.90        10\n",
      "         AMR       0.57      0.48      0.52        25\n",
      "         EMR       0.50      0.38      0.43         8\n",
      "         EUR       0.64      0.70      0.67        33\n",
      "         SEA       0.71      1.00      0.83         5\n",
      "         WPR       0.60      0.67      0.63         9\n",
      "\n",
      "    accuracy                           0.64        90\n",
      "   macro avg       0.65      0.69      0.66        90\n",
      "weighted avg       0.64      0.64      0.64        90\n",
      "\n",
      "k: 18\n",
      "Accuracy: 0.64\n"
     ]
    }
   ],
   "source": [
    "# Import the necessary libraries\n",
    "from sklearn.neighbors import KNeighborsClassifier\n",
    "from sklearn.metrics import classification_report\n",
    "\n",
    "# Split the data into training and testing sets\n",
    "X_train, X_test, y_train, y_test = train_test_split(X, y, test_size=0.2, random_state=42, stratify = y)\n",
    "\n",
    "# Make k the value of the square root of the number of samples in the training set\n",
    "k = int(np.sqrt(len(X_train))) \n",
    "\n",
    "# Create a kNN classifier\n",
    "knn_classifier = KNeighborsClassifier(n_neighbors=k)\n",
    "\n",
    "# Fit the classifier to the training set\n",
    "knn_classifier.fit(X_train, y_train)\n",
    "\n",
    "# Predict the 'Region' categories on the testing set\n",
    "y_pred = knn_classifier.predict(X_test)\n",
    "\n",
    "# Print the classification report\n",
    "print(classification_report(y_test, y_pred))\n",
    "\n",
    "# Print the k value used\n",
    "print(f'k: {k}')\n",
    "\n",
    "# Print the accuracy of the classifier\n",
    "print(f'Accuracy: {knn_classifier.score(X_test, y_test):.2f}')\n"
   ]
  },
  {
   "cell_type": "markdown",
   "id": "444188c4",
   "metadata": {},
   "source": [
    "##### Model 2: kNN Classifier with single 80/20 Split. \n",
    "- k = optimal k found from a range of odd numbers from 3 to 21"
   ]
  },
  {
   "cell_type": "code",
   "execution_count": 64,
   "id": "6bb57215",
   "metadata": {},
   "outputs": [
    {
     "name": "stdout",
     "output_type": "stream",
     "text": [
      "K-Value |   Accuracy |   F1-Score\n",
      "------- | ---------- | ----------\n",
      "     3 | 0.778   | 0.777\n",
      "     5 | 0.756   | 0.755\n",
      "     7 | 0.733   | 0.732\n",
      "     9 | 0.744   | 0.744\n",
      "    11 | 0.700   | 0.698\n",
      "    13 | 0.722   | 0.721\n",
      "    15 | 0.733   | 0.734\n",
      "    17 | 0.722   | 0.723\n",
      "    19 | 0.711   | 0.710\n"
     ]
    },
    {
     "data": {
      "image/png": "[encoded data removed]",
      "text/plain": [
       "<Figure size 1000x600 with 1 Axes>"
      ]
     },
     "metadata": {},
     "output_type": "display_data"
    },
    {
     "name": "stdout",
     "output_type": "stream",
     "text": [
      "Best k (n_neighbors): 3\n",
      "Mean Accuracy: 0.78\n"
     ]
    }
   ],
   "source": [
    "import numpy as np\n",
    "import matplotlib.pyplot as plt\n",
    "import pandas as pd\n",
    "from sklearn.model_selection import train_test_split\n",
    "from sklearn.neighbors import KNeighborsClassifier\n",
    "from sklearn.metrics import accuracy_score, f1_score\n",
    "\n",
    "\n",
    "# PHASE 1: Find the best k value using a train-test split\n",
    "\n",
    "# Define the range of k values to try\n",
    "k_values = range(3, 21, 2)\n",
    "\n",
    "accuracies = []  # Changed variable name\n",
    "f1_scores = []\n",
    "\n",
    "# Table header\n",
    "print(\"K-Value |   Accuracy |   F1-Score\")\n",
    "print(\"------- | ---------- | ----------\")\n",
    "\n",
    "# Fixed train-test split for all k values\n",
    "X_train, X_test, y_train, y_test = train_test_split(X, y, test_size=0.2, random_state=42)\n",
    "\n",
    "# Iterate over the range of k values\n",
    "for k in k_values:\n",
    "    # Create a kNN classifier\n",
    "    knn_classifier = KNeighborsClassifier(n_neighbors=k)\n",
    "\n",
    "    # Fit the classifier to the training set\n",
    "    knn_classifier.fit(X_train, y_train)\n",
    "\n",
    "    # Predict the labels for the test set\n",
    "    y_pred = knn_classifier.predict(X_test)\n",
    "\n",
    "    # Calculate accuracy and F1-score for this k-value\n",
    "    accuracy = accuracy_score(y_test, y_pred)\n",
    "    f1 = f1_score(y_test, y_pred, average='weighted')\n",
    "\n",
    "    accuracies.append(accuracy)\n",
    "    f1_scores.append(f1)\n",
    "\n",
    "    # Print results for each k\n",
    "    print(f\"{k:6d} | {accuracy:.3f}   | {f1:.3f}\")\n",
    "\n",
    "# Find the k value with the highest accuracy (no change needed here)\n",
    "best_k = k_values[np.argmax(accuracies)]\n",
    "best_accuracy = max(accuracies)\n",
    "\n",
    "# Create a DataFrame to store the results\n",
    "results_df = pd.DataFrame({'k (n_neighbors)': k_values,\n",
    "                          'Accuracy': accuracies,\n",
    "                          'F1-Score': f1_scores})\n",
    "\n",
    "# Create the line plot with both accuracy and F1-score\n",
    "plt.figure(figsize=(10, 6))\n",
    "sns.lineplot(x='k (n_neighbors)', y='Accuracy', data=results_df, marker='o', label='Accuracy')\n",
    "#sns.lineplot(x='k (n_neighbors)', y='F1-Score', data=results_df, marker='x', label='F1-Score')\n",
    "\n",
    "# Add the best k value to the plot\n",
    "plt.scatter(best_k, best_accuracy, color='red', label=f'Best k: {best_k}, Accuracy: {best_accuracy:.3f}')\n",
    "plt.legend()\n",
    "\n",
    "# Set plot title and labels\n",
    "plt.title('kNN Classifier Performance with Different k Values (Train-Test Split)')\n",
    "plt.xlabel('k (n_neighbors)')\n",
    "plt.ylabel('Accuracy')\n",
    "\n",
    "# Modify x-axis ticks to increase by 1\n",
    "plt.xticks(k_values)\n",
    "\n",
    "# Show the plot\n",
    "plt.show()\n",
    "\n",
    "\n",
    "# Print the best k value and mean accuracy\n",
    "print(f'Best k (n_neighbors): {best_k}')\n",
    "print(f'Mean Accuracy: {best_accuracy:.2f}')"
   ]
  },
  {
   "cell_type": "markdown",
   "id": "a79dee1e",
   "metadata": {},
   "source": [
    "##### Model 3: kNN Classifier with k-fold cross-validation. \n",
    "- k = optimal k found from a range of odd numbers from 3 to 21"
   ]
  },
  {
   "cell_type": "code",
   "execution_count": 29,
   "id": "c77810be",
   "metadata": {},
   "outputs": [
    {
     "name": "stdout",
     "output_type": "stream",
     "text": [
      "K-Value | Mean Accuracy | Mean F1-Score\n",
      "------- | ------------- | ------------\n",
      "     3 | 0.601    | 0.581\n",
      "     5 | 0.590    | 0.572\n",
      "     7 | 0.585    | 0.565\n",
      "     9 | 0.578    | 0.557\n",
      "    11 | 0.572    | 0.545\n",
      "    13 | 0.561    | 0.535\n",
      "    15 | 0.549    | 0.517\n",
      "    17 | 0.538    | 0.502\n",
      "    19 | 0.504    | 0.471\n"
     ]
    },
    {
     "data": {
      "image/png": "[encoded data removed]",
      "text/plain": [
       "<Figure size 640x480 with 1 Axes>"
      ]
     },
     "metadata": {},
     "output_type": "display_data"
    },
    {
     "name": "stdout",
     "output_type": "stream",
     "text": [
      "Best k (n_neighbors): 3\n",
      "Mean Accuracy: 0.60\n",
      "Standard Deviation of Accuracy: 0.10\n"
     ]
    }
   ],
   "source": [
    "import numpy as np\n",
    "import matplotlib.pyplot as plt\n",
    "import pandas as pd\n",
    "from sklearn.model_selection import cross_val_score\n",
    "from sklearn.neighbors import KNeighborsClassifier\n",
    "\n",
    "# ... (Your code for loading and preprocessing the dataset) ...\n",
    "\n",
    "# Define the range of k values to try \n",
    "k_values = range(3, 21, 2) # a range of odd numbers from 3 to 21\n",
    "\n",
    "mean_accuracies = []\n",
    "mean_f1_scores = []\n",
    "std_accuracies = []\n",
    "\n",
    "# Table header\n",
    "print(\"K-Value | Mean Accuracy | Mean F1-Score\")\n",
    "print(\"------- | ------------- | ------------\")\n",
    "\n",
    "# Iterate over the range (list) of k values\n",
    "for k in k_values:\n",
    "    # Create a kNN classifier\n",
    "    knn_classifier = KNeighborsClassifier(n_neighbors=k)\n",
    "\n",
    "    # Perform 10-fold cross-validation\n",
    "    accuracy_scores = cross_val_score(knn_classifier, X, y, cv=10, scoring='accuracy')\n",
    "    f1_scores = cross_val_score(knn_classifier, X, y, cv=10, scoring='f1_weighted')  # F1 with weighted average\n",
    "\n",
    "    # Calculate and store means\n",
    "    mean_accuracies.append(np.mean(accuracy_scores))\n",
    "    mean_f1_scores.append(np.mean(f1_scores))\n",
    "\n",
    "    # Calculate and store standard deviation of accuracy\n",
    "    std_accuracies.append(np.std(accuracy_scores))\n",
    "\n",
    "    # Print results for each k using a formatted string\n",
    "    print(f\"{k:6d} | {np.mean(accuracy_scores):.3f}    | {np.mean(f1_scores):.3f}\")\n",
    "\n",
    "\n",
    "# Find the k value with the highest mean accuracy\n",
    "best_k = k_values[np.argmax(mean_accuracies)]\n",
    "best_accuracy = max(mean_accuracies)\n",
    "\n",
    "# Create a DataFrame to store the results\n",
    "results_df = pd.DataFrame({'k (n_neighbors)': k_values,\n",
    "                          'Mean Accuracy': mean_accuracies,\n",
    "                          'Std Deviation': std_accuracies})\n",
    "\n",
    "# Create the line plot\n",
    "sns.lineplot(x='k (n_neighbors)', y='Mean Accuracy', data=results_df, marker='o')\n",
    "\n",
    "# Add error bars\n",
    "plt.errorbar(x=results_df['k (n_neighbors)'], y=results_df['Mean Accuracy'], yerr=results_df['Std Deviation'], fmt='none', capsize=5)\n",
    "\n",
    "# Add the best k value to the plot\n",
    "plt.scatter(best_k, best_accuracy, color='red', label=f'Best k: {best_k}, Accuracy: {best_accuracy:.3f}')\n",
    "plt.legend()\n",
    "\n",
    "# Set plot title and labels\n",
    "plt.title('kNN Classifier Performance with Different k Values (Cross-Validation)')\n",
    "plt.xlabel('k (n_neighbors)')\n",
    "plt.ylabel('Mean Accuracy')\n",
    "\n",
    "# Modify x-axis ticks to match the k values\n",
    "plt.xticks(k_values)\n",
    "\n",
    "# Show the plot\n",
    "plt.show()\n",
    "\n",
    "# Print the best k value and mean accuracy\n",
    "print(f'Best k (n_neighbors): {best_k}')\n",
    "print(f'Mean Accuracy: {best_accuracy:.2f}')\n",
    "print(f'Standard Deviation of Accuracy: {std_accuracies[np.argmax(mean_accuracies)]:.2f}')\n"
   ]
  },
  {
   "cell_type": "markdown",
   "id": "a9493f36",
   "metadata": {},
   "source": []
  },
  {
   "cell_type": "code",
   "execution_count": 49,
   "id": "b45a2281",
   "metadata": {},
   "outputs": [
    {
     "name": "stdout",
     "output_type": "stream",
     "text": [
      "\n",
      "k-Optimization (Cross-Validation):\n",
      "K-Value | Mean CV Accuracy | Mean CV F1-Score |   Std Dev\n",
      "------- | --------------- | -------------- | ----------\n",
      "     3 | 0.767    | 0.765    | 0.047\n",
      "     5 | 0.747    | 0.747    | 0.074\n",
      "     7 | 0.742    | 0.741    | 0.056\n",
      "     9 | 0.715    | 0.714    | 0.060\n",
      "    11 | 0.709    | 0.704    | 0.070\n",
      "    13 | 0.709    | 0.705    | 0.061\n",
      "    15 | 0.691    | 0.687    | 0.059\n",
      "    17 | 0.684    | 0.681    | 0.059\n",
      "    19 | 0.684    | 0.679    | 0.052\n",
      "\n",
      "Final Evaluation (Cross-Validation with Best k):\n",
      "K-Value: 3\n",
      "Mean Accuracy: 0.767\n",
      "Standard Deviation of Accuracy: 0.047\n",
      "Mean F1-Score: 0.765\n"
     ]
    }
   ],
   "source": [
    "import numpy as np\n",
    "from sklearn.model_selection import cross_val_score, KFold\n",
    "from sklearn.neighbors import KNeighborsClassifier\n",
    "from sklearn.metrics import accuracy_score, f1_score\n",
    "\n",
    "# PHASE 1: Find the best k using Cross-Validation\n",
    "\n",
    "# Define the range of k values to try \n",
    "k_values = range(3, 21, 2)\n",
    "\n",
    "# Optimize k using Cross-Validation\n",
    "mean_accuracies_cv = []\n",
    "mean_f1_scores_cv = []\n",
    "std_accuracies_cv = []  # Store standard deviations for cross-validation\n",
    "\n",
    "# Table header for cross-validation results\n",
    "print(\"\\nk-Optimization (Cross-Validation):\")\n",
    "print(\"K-Value | Mean CV Accuracy | Mean CV F1-Score |   Std Dev\")\n",
    "print(\"------- | --------------- | -------------- | ----------\")\n",
    "\n",
    "# Iterate over the range of k values. For each k, do the following:\n",
    "for k in k_values:\n",
    "\n",
    "    # Create a kNN classifier with the current k\n",
    "    knn_classifier = KNeighborsClassifier(n_neighbors=k)\n",
    "    # Perform 10-fold cross-validation with shuffling to prevent bias (i.e. inherent ordering in the data)\n",
    "    cv = KFold(n_splits=10, shuffle=True, random_state=42) \n",
    "    # Get accuracy scores for each fold\n",
    "    accuracy_scores = cross_val_score(knn_classifier, X, y, cv=cv, scoring='accuracy')\n",
    "    # Get F1 scores for each fold\n",
    "    f1_scores = cross_val_score(knn_classifier, X, y, cv=cv, scoring='f1_weighted') \n",
    "    # Calculate and store mean accuracy for this k\n",
    "    mean_accuracies_cv.append(np.mean(accuracy_scores))\n",
    "    # Calculate and store mean F1-score for this k\n",
    "    mean_f1_scores_cv.append(np.mean(f1_scores))\n",
    "    # Calculate and store standard deviation of accuracy for this k\n",
    "    std_accuracies_cv.append(np.std(accuracy_scores)) \n",
    "    # Print cross-validation results for each k\n",
    "    print(f\"{k:6d} | {np.mean(accuracy_scores):.3f}    | {np.mean(f1_scores):.3f}    | {np.std(accuracy_scores):.3f}\")\n",
    "\n",
    "# Find the best k based on cross-validation\n",
    "best_k = k_values[np.argmax(mean_accuracies_cv)]\n",
    "\n",
    "# PHASE 2: Evaluate model performance using k-fold Cross-Validation with the best k\n",
    "\n",
    "# Create a kNN classifier with the best k\n",
    "knn_classifier_best = KNeighborsClassifier(n_neighbors=best_k)\n",
    "\n",
    "# Perform k-fold cross-validation with the best k\n",
    "final_accuracy_scores = cross_val_score(knn_classifier_best, X, y, cv=cv, scoring='accuracy')\n",
    "final_f1_scores = cross_val_score(knn_classifier_best, X, y, cv=cv, scoring='f1_weighted')\n",
    "\n",
    "# Calculate and print final evaluation metrics using formatted strings\n",
    "print(\"\\nFinal Evaluation (Cross-Validation with Best k):\")\n",
    "print(f\"K-Value: {best_k}\")\n",
    "print(f\"Mean Accuracy: {np.mean(final_accuracy_scores):.3f}\")\n",
    "print(f\"Standard Deviation of Accuracy: {np.std(final_accuracy_scores):.3f}\")\n",
    "print(f\"Mean F1-Score: {np.mean(final_f1_scores):.3f}\")\n"
   ]
  },
  {
   "cell_type": "markdown",
   "id": "7083199a",
   "metadata": {},
   "source": []
  },
  {
   "cell_type": "markdown",
   "metadata": {},
   "source": []
  },
  {
   "cell_type": "markdown",
   "id": "f28ea76b",
   "metadata": {},
   "source": []
  },
  {
   "cell_type": "markdown",
   "id": "3e0931d8",
   "metadata": {},
   "source": []
  },
  {
   "cell_type": "code",
   "execution_count": null,
   "id": "fc068a24",
   "metadata": {},
   "outputs": [],
   "source": [
    "# Define the range of k values to try\n",
    "k_range = range(3, 21, 2)  \n",
    "\n",
    "# Call the function\n",
    "plot_knn_performance(X, y, k_range)"
   ]
  },
  {
   "cell_type": "markdown",
   "id": "1a4dc312",
   "metadata": {},
   "source": []
  },
  {
   "cell_type": "markdown",
   "id": "6c54f7db",
   "metadata": {},
   "source": []
  },
  {
   "cell_type": "markdown",
   "id": "9a390dee",
   "metadata": {},
   "source": []
  },
  {
   "cell_type": "code",
   "execution_count": 42,
   "id": "bf279df8",
   "metadata": {},
   "outputs": [],
   "source": [
    "from sklearn.metrics import accuracy_score, precision_score, recall_score, f1_score\n",
    "import matplotlib.pyplot as plt\n",
    "\n",
    "def plot_knn_performance(X, y, k_range):\n",
    "    accuracy_arr = []\n",
    "    precision_arr = []\n",
    "    recall_arr = []\n",
    "    f1_score_arr = []\n",
    "\n",
    "    for k in k_range:\n",
    "        knn = KNeighborsClassifier(n_neighbors=k)\n",
    "        knn.fit(X, y)  # Train the classifier\n",
    "        y_pred = knn.predict(X)  # Predict on the training data itself to avoid overfitting\n",
    "\n",
    "        accuracy_arr.append(accuracy_score(y, y_pred))\n",
    "        precision_arr.append(precision_score(y, y_pred, average='weighted', zero_division=1))  # Weighted average to handle multi-class\n",
    "        recall_arr.append(recall_score(y, y_pred, average='weighted', zero_division=1))\n",
    "        f1_score_arr.append(f1_score(y, y_pred, average='weighted', zero_division=1))\n",
    "\n",
    "    plt.figure(figsize=(10, 12))\n",
    "\n",
    "    metrics = [accuracy_arr, precision_arr, recall_arr, f1_score_arr]\n",
    "    metric_names = ['Accuracy', 'Precision', 'Recall', 'F1 Score']\n",
    "\n",
    "    for i, (metric, metric_name) in enumerate(zip(metrics, metric_names), 1):\n",
    "        plt.subplot(4, 1, i)\n",
    "        plt.plot(k_range, metric, c='k', label=metric_name)\n",
    "        plt.axis('tight')\n",
    "        plt.xlabel('k number of nearest neighbors')\n",
    "        plt.ylabel(metric_name)\n",
    "        plt.legend(loc='upper right')\n",
    "        plt.title(f\"{metric_name} for the KNeighborsClassifier\")\n",
    "\n",
    "    plt.subplots_adjust(hspace=0.5)  # Adjust spacing between subplots\n",
    "    plt.show()\n"
   ]
  },
  {
   "cell_type": "markdown",
   "id": "d258643d",
   "metadata": {},
   "source": []
  },
  {
   "cell_type": "markdown",
   "id": "ace503d9",
   "metadata": {},
   "source": []
  },
  {
   "cell_type": "markdown",
   "metadata": {},
   "source": []
  },
  {
   "cell_type": "markdown",
   "id": "4d978156",
   "metadata": {},
   "source": []
  },
  {
   "cell_type": "markdown",
   "id": "3a2bfcce",
   "metadata": {},
   "source": []
  },
  {
   "cell_type": "code",
   "execution_count": 33,
   "id": "859c996c",
   "metadata": {},
   "outputs": [
    {
     "name": "stdout",
     "output_type": "stream",
     "text": [
      "Best k (n_neighbors): 1\n",
      "Mean Accuracy: 0.66\n",
      "Standard Deviation of Accuracy: 0.11\n"
     ]
    }
   ],
   "source": [
    "from sklearn.neighbors import KNeighborsClassifier\n",
    "from sklearn.model_selection import cross_val_score\n",
    "import numpy as np\n",
    "\n",
    "# Create feature matrix X and target variable y\n",
    "X = df[['Estimated prevalence of TB (all forms) per 100 000 population',\n",
    "        'Estimated mortality of TB cases (all forms, excluding HIV) per 100 000 population',\n",
    "        'Estimated incidence (all forms) per 100 000 population',\n",
    "        'Case detection rate (all forms), percent']]\n",
    "y = df['Region']\n",
    "\n",
    "# Define different values of k to test\n",
    "k_values = {'n_neighbors': range(1, 21)}\n",
    "\n",
    "# Lists to store mean accuracy and standard deviation for each k value tested\n",
    "mean_accuracies = []\n",
    "std_accuracies = []\n",
    "\n",
    "# Iterate over the range (list) of k values. For each k-value, do the following:\n",
    "for k in k_values['n_neighbors']:\n",
    "\n",
    "    # Create a kNN classifier\n",
    "    knn_classifier = KNeighborsClassifier(n_neighbors=k)\n",
    "\n",
    "    # Perform 10-fold cross-validation on the classifier using accuracy as the scoring metric\n",
    "    accuracy_scores = cross_val_score(knn_classifier, X, y, cv=10, scoring='accuracy')\n",
    "\n",
    "    # Calculate and store mean accuracy for the classifier\n",
    "    mean_accuracies.append(np.mean(accuracy_scores))\n",
    "\n",
    "    # Calculate and store standard deviation of accuracy for the classifier\n",
    "    std_accuracies.append(np.std(accuracy_scores))\n",
    "\n",
    "# Compare the mean accuracies and standard deviations for each k value to find the best k (i.e. the one with the highest mean accuracy)\n",
    "best_k_index = np.argmax(mean_accuracies)\n",
    "# Get the best k value \n",
    "best_k = k_values['n_neighbors'][best_k_index]\n",
    "# Get the best mean accuracy \n",
    "best_mean_accuracy = mean_accuracies[best_k_index]\n",
    "# Get the best standard deviation of accuracy\n",
    "best_std_accuracy = std_accuracies[best_k_index]\n",
    "\n",
    "# Print the results\n",
    "print(f\"Best k (n_neighbors): {best_k}\")\n",
    "print(f\"Mean Accuracy: {best_mean_accuracy:.2f}\")\n",
    "print(f\"Standard Deviation of Accuracy: {best_std_accuracy:.2f}\")\n"
   ]
  },
  {
   "cell_type": "markdown",
   "id": "8302530a",
   "metadata": {},
   "source": [
    "Visualize the results."
   ]
  },
  {
   "cell_type": "code",
   "execution_count": 34,
   "id": "8611c17e",
   "metadata": {},
   "outputs": [
    {
     "data": {
      "image/png": "[encoded data removed]",
      "text/plain": [
       "<Figure size 640x480 with 1 Axes>"
      ]
     },
     "metadata": {},
     "output_type": "display_data"
    }
   ],
   "source": [
    "import seaborn as sns\n",
    "import matplotlib.pyplot as plt\n",
    "\n",
    "# Create a DataFrame to store the results\n",
    "results_df = pd.DataFrame({'k (n_neighbors)': k_values['n_neighbors'],\n",
    "                           'Mean Accuracy': mean_accuracies,\n",
    "                           'Std Deviation': std_accuracies})\n",
    "\n",
    "# Create the line plot\n",
    "sns.lineplot(x='k (n_neighbors)', y='Mean Accuracy', data=results_df, marker='o')\n",
    "\n",
    "# Add error bars\n",
    "plt.errorbar(x=results_df['k (n_neighbors)'], y=results_df['Mean Accuracy'], yerr=results_df['Std Deviation'], fmt='none', capsize=5)\n",
    "\n",
    "# Set plot title and labels\n",
    "plt.title('kNN Classifier Performance with Different k Values')\n",
    "plt.xlabel('k (n_neighbors)')\n",
    "plt.ylabel('Mean Accuracy')\n",
    "\n",
    "# Modify x-axis ticks to increase by 1 to match the k values tested\n",
    "plt.xticks(results_df['k (n_neighbors)']) \n",
    "\n",
    "# Show the plot\n",
    "plt.show()\n"
   ]
  },
  {
   "cell_type": "code",
   "execution_count": null,
   "id": "d44b6fdf",
   "metadata": {},
   "outputs": [],
   "source": [
    "from sklearn.neighbors import KNeighborsClassifier\n",
    "from sklearn.metrics import classification_report\n",
    "\n",
    "# ... (Assuming X_train, X_test, y_train, y_test are already defined from the previous split) ...\n",
    "\n",
    "# Choose the value of k\n",
    "k = 5  # You can adjust this value\n",
    "\n",
    "# Create a kNN classifier\n",
    "knn_classifier = KNeighborsClassifier(n_neighbors=k)\n",
    "\n",
    "# Fit the classifier to the training set\n",
    "knn_classifier.fit(X_train, y_train)\n",
    "\n",
    "# Predict the 'Region' categories on the testing set\n",
    "y_pred = knn_classifier.predict(X_test)\n",
    "\n",
    "# Print the classification report\n",
    "print(classification_report(y_test, y_pred))"
   ]
  },
  {
   "cell_type": "markdown",
   "id": "7fd55821",
   "metadata": {},
   "source": [
    "# Extra: "
   ]
  },
  {
   "cell_type": "markdown",
   "id": "84782545",
   "metadata": {},
   "source": [
    "cd \"C:\\Users\\Admin\\OneDrive\\Massey University\\Semester 3\\Data Wrangling & Machine Learning\\Assignments\\A3\"\n",
    "\n",
    "streamlit run app.py\n",
    "\n",
    "cd \"C:\\Users\\Admin\\OneDrive\\Massey University\\Semester 3\\Data Wrangling & Machine Learning\\Assignments\\A3\" && streamlit run app.py"
   ]
  },
  {
   "cell_type": "markdown",
   "id": "9192ee52",
   "metadata": {},
   "source": [
    "### Task 2.a "
   ]
  },
  {
   "cell_type": "markdown",
   "id": "5c02a237",
   "metadata": {},
   "source": []
  },
  {
   "cell_type": "code",
   "execution_count": null,
   "id": "cf99c251",
   "metadata": {},
   "outputs": [],
   "source": []
  },
  {
   "cell_type": "markdown",
   "id": "52f9bee3",
   "metadata": {},
   "source": []
  },
  {
   "cell_type": "markdown",
   "id": "f6ad2b79",
   "metadata": {},
   "source": [
    "### Task 2.b"
   ]
  },
  {
   "cell_type": "code",
   "execution_count": null,
   "id": "55ec1d58",
   "metadata": {},
   "outputs": [],
   "source": []
  },
  {
   "cell_type": "markdown",
   "id": "8358433a",
   "metadata": {},
   "source": [
    "### Task 2.c"
   ]
  },
  {
   "cell_type": "code",
   "execution_count": null,
   "id": "7274cf3d",
   "metadata": {},
   "outputs": [],
   "source": []
  },
  {
   "cell_type": "code",
   "execution_count": null,
   "id": "71f7d14c",
   "metadata": {},
   "outputs": [],
   "source": []
  },
  {
   "cell_type": "markdown",
   "id": "a09d0fea",
   "metadata": {},
   "source": [
    "### Task 2.d "
   ]
  },
  {
   "cell_type": "code",
   "execution_count": null,
   "id": "062171ef",
   "metadata": {},
   "outputs": [],
   "source": []
  },
  {
   "cell_type": "code",
   "execution_count": null,
   "id": "a71102e9",
   "metadata": {},
   "outputs": [],
   "source": []
  }
 ],
 "metadata": {
  "kernelspec": {
   "display_name": "Python 3 (ipykernel)",
   "language": "python",
   "name": "python3"
  },
  "language_info": {
   "codemirror_mode": {
    "name": "ipython",
    "version": 3
   },
   "file_extension": ".py",
   "mimetype": "text/x-python",
   "name": "python",
   "nbconvert_exporter": "python",
   "pygments_lexer": "ipython3",
   "version": "3.12.3"
  }
 },
 "nbformat": 4,
 "nbformat_minor": 5
}
